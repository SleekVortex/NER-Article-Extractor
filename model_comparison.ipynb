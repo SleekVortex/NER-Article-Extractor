{
 "cells": [
  {
   "cell_type": "markdown",
   "metadata": {},
   "source": [
    "Сравним результаты моделей"
   ]
  },
  {
   "cell_type": "markdown",
   "metadata": {},
   "source": [
    "Введем несколько метрик.\n",
    "\n",
    "Ссылаюсь на эту статью: http://habr.com/ru/articles/733492/"
   ]
  },
  {
   "cell_type": "code",
   "execution_count": null,
   "metadata": {},
   "outputs": [],
   "source": [
    "import pandas as pd\n",
    "\n",
    "from rapidfuzz import fuzz\n",
    "from sklearn.metrics.pairwise import cosine_similarity\n",
    "from sklearn.feature_extraction.text import CountVectorizer"
   ]
  },
  {
   "cell_type": "code",
   "execution_count": 36,
   "metadata": {},
   "outputs": [],
   "source": [
    "# Загрузка данных\n",
    "LLM_df = pd.read_csv('predictions_LLM.csv')\n",
    "BERT_df = pd.read_csv('test_bert_ner.csv')\n",
    "\n",
    "# Замена NaN на пустые строки\n",
    "LLM_df.fillna('', inplace=True)\n",
    "BERT_df.fillna('', inplace=True)"
   ]
  },
  {
   "cell_type": "code",
   "execution_count": 37,
   "metadata": {},
   "outputs": [],
   "source": [
    "# Функция для расчета среднего расстояния Левенштейна\n",
    "def avg_levenshtein_distance(y_true, y_pred):\n",
    "    total_distance = 0\n",
    "    count = 0\n",
    "\n",
    "    for true, pred in zip(y_true, y_pred):\n",
    "        distance = fuzz.ratio(true, pred) / 100  # Преобразуем в долю\n",
    "        total_distance += distance\n",
    "        count += 1\n",
    "\n",
    "    return total_distance / count"
   ]
  },
  {
   "cell_type": "code",
   "execution_count": 38,
   "metadata": {},
   "outputs": [],
   "source": [
    "# Функция для преобразования строк в векторы\n",
    "def str_to_vecs(text, target):\n",
    "    vectorizer = CountVectorizer(analyzer='char')\n",
    "    vectorizer = vectorizer.fit_transform([text, target])\n",
    "    return vectorizer.toarray()[0], vectorizer.toarray()[1]\n",
    "\n",
    "# Функция для вычисления косинусного сходства\n",
    "def cos_sim_vecs(vec1, vec2):\n",
    "    vec1 = vec1.reshape(1, -1)\n",
    "    vec2 = vec2.reshape(1, -1)\n",
    "    return cosine_similarity(vec1, vec2)[0][0]\n",
    "\n",
    "# Функция для расчета среднего косинусного сходства\n",
    "def avg_cos_sim_vecs(y_true, y_pred):\n",
    "    total_distance = 0\n",
    "    count = 0\n",
    "\n",
    "    for true, pred in zip(y_true, y_pred):\n",
    "        vec_true, vec_pred = str_to_vecs(true, pred)\n",
    "        distance = cos_sim_vecs(vec_true, vec_pred)\n",
    "        total_distance += distance\n",
    "        count += 1\n",
    "\n",
    "    return total_distance / count"
   ]
  },
  {
   "cell_type": "code",
   "execution_count": 39,
   "metadata": {},
   "outputs": [],
   "source": [
    "# Функция для расчета доли точных совпадений\n",
    "def exact_accuracy(y_true, y_pred):\n",
    "    correct_matches = sum(true == pred for true, pred in zip(y_true, y_pred))\n",
    "    return correct_matches / len(y_true)"
   ]
  },
  {
   "cell_type": "code",
   "execution_count": 43,
   "metadata": {},
   "outputs": [
    {
     "name": "stdout",
     "output_type": "stream",
     "text": [
      "Среднее расстояние Левенштейна: LLM = 0.9606, BERT = 0.9143\n"
     ]
    }
   ],
   "source": [
    "# Вычисление метрик для моделей\n",
    "levenshtein_LLM = avg_levenshtein_distance(LLM_df['output'], LLM_df['predictions'])\n",
    "levenshtein_BERT = avg_levenshtein_distance(BERT_df['entity'], BERT_df['predictions'])\n",
    "print(f\"Среднее расстояние Левенштейна: LLM = {levenshtein_LLM:.4f}, BERT = {levenshtein_BERT:.4f}\")\n"
   ]
  },
  {
   "cell_type": "code",
   "execution_count": 44,
   "metadata": {},
   "outputs": [
    {
     "name": "stdout",
     "output_type": "stream",
     "text": [
      "Среднее косинусное сходство: LLM = 0.9685, BERT = 0.9320\n"
     ]
    }
   ],
   "source": [
    "# Среднее косинусное сходство\n",
    "cosine_LLM = avg_cos_sim_vecs(LLM_df['output'], LLM_df['predictions'])\n",
    "cosine_BERT = avg_cos_sim_vecs(BERT_df['entity'], BERT_df['predictions'])\n",
    "print(f\"Среднее косинусное сходство: LLM = {cosine_LLM:.4f}, BERT = {cosine_BERT:.4f}\")\n"
   ]
  },
  {
   "cell_type": "code",
   "execution_count": 45,
   "metadata": {},
   "outputs": [
    {
     "name": "stdout",
     "output_type": "stream",
     "text": [
      "Доля точных совпадений: LLM = 0.9082, BERT = 0.8271\n"
     ]
    }
   ],
   "source": [
    "# Доля точных совпадений\n",
    "exact_LLM = exact_accuracy(LLM_df['output'], LLM_df['predictions'])\n",
    "exact_BERT = exact_accuracy(BERT_df['entity'], BERT_df['predictions'])\n",
    "print(f\"Доля точных совпадений: LLM = {exact_LLM:.4f}, BERT = {exact_BERT:.4f}\")\n"
   ]
  },
  {
   "cell_type": "markdown",
   "metadata": {},
   "source": [
    "Делаем вывод, что модель на основе легкой LLM показала себя лучше, чем модель на основе тяжелого BERT.\n",
    "\n",
    "Так как по всем метрикам она лучше. Но в свою дообучать LLM может быть затратнее и сама модель будет очень тяжелая."
   ]
  }
 ],
 "metadata": {
  "kernelspec": {
   "display_name": "Python 3",
   "language": "python",
   "name": "python3"
  },
  "language_info": {
   "codemirror_mode": {
    "name": "ipython",
    "version": 3
   },
   "file_extension": ".py",
   "mimetype": "text/x-python",
   "name": "python",
   "nbconvert_exporter": "python",
   "pygments_lexer": "ipython3",
   "version": "3.11.9"
  }
 },
 "nbformat": 4,
 "nbformat_minor": 2
}
